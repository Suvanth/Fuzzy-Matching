{
 "cells": [
  {
   "attachments": {},
   "cell_type": "markdown",
   "metadata": {},
   "source": [
    "# **Fuzzy Matching Assignment 1** Suvanth Ramruthen"
   ]
  },
  {
   "attachments": {},
   "cell_type": "markdown",
   "metadata": {},
   "source": [
    "# What is Fuzzy Matching\n",
    "Fuzzy matching is a technique used to compare and match two strings that are not exactly identical. While the naive approach of comparing strings and checking for equality would only make a direct comparison that is binary and doesn't consider the degree to which two strings might match each other. Fuzzy matching algorithms use various techniques to measure the similarity between two strings, even if they're not exactly identical. These techniques can include things like measuring the number of characters or words that are the same, or looking for common patterns or sequences of characters. By taking a more nuanced approach to comparing strings, fuzzy matching can help identify matches even when there are slight differences or variations in the data being compared."
   ]
  },
  {
   "attachments": {},
   "cell_type": "markdown",
   "metadata": {},
   "source": [
    "![Alt text](fuzzy.png)"
   ]
  },
  {
   "cell_type": "code",
   "execution_count": 60,
   "metadata": {},
   "outputs": [
    {
     "name": "stdout",
     "output_type": "stream",
     "text": [
      "False\n",
      "The strings have a 82% similarity\n"
     ]
    }
   ],
   "source": [
    "from thefuzz import fuzz, process # python lib for fuzzy logic\n",
    "\n",
    "string1 = \"Hello World\"\n",
    "string2 = \"hello world\"\n",
    "\n",
    "print(string1 == string2)  # True or False equality\n",
    "print(f'The strings have a {fuzz.partial_ratio(string1,string2)}% similarity') # Degree to which we believe the strings to be matching"
   ]
  },
  {
   "attachments": {},
   "cell_type": "markdown",
   "metadata": {},
   "source": [
    "The codeblock above shows the value of using Fuzzy Matching. We could have potentially lost out on a word/phrase that has a signifcantly high similarity."
   ]
  },
  {
   "attachments": {},
   "cell_type": "markdown",
   "metadata": {},
   "source": [
    "# Use cases of Fuzzy Matching \n",
    "- Clean Customer Data: Companies use fuzzy matching to find and merge duplicate customer records. This helps to keep the customer database accurate and up-to-date, which is important for sales and marketing efforts.\n",
    "\n",
    "- Match Medical Records: Healthcare providers use fuzzy matching to match patient records across different hospitals or clinics. This helps to ensure that patients receive consistent and accurate medical care.\n",
    "\n",
    "- Detect Fraud: Fuzzy matching can help to identify suspicious patterns in financial data, such as transactions that are similar but not identical. This can be used to detect potential fraud.\n",
    "\n",
    "- Personalize Product Recommendations: E-commerce websites use fuzzy matching to recommend products to users based on their search history or past purchases. This can help to improve the user experience and increase sales.\n",
    "\n",
    "- Verify Addresses: Postal services and shipping companies use fuzzy matching to verify and correct address information. This helps to ensure that packages are delivered to the correct address and reduces the risk of misdeliveries or lost packages."
   ]
  },
  {
   "attachments": {},
   "cell_type": "markdown",
   "metadata": {},
   "source": [
    "# Popular Software that leverage Fuzzy Matching\n",
    "Elasticsearch is a search and analytics engine that can use fuzzy matching to improve the accuracy of search results. It can match queries with documents that have similar terms or phrases, even if they are spelled differently or have different word forms.\n",
    "\n",
    "Apache Lucene is a full-text search engine library that supports fuzzy matching to help users find documents that contain similar terms or phrases. It can also use fuzzy matching in conjunction with other search features, such as stemming and synonyms.\n",
    "\n",
    "Redis is an in-memory data structure store that can be used as a database, cache, and message broker. It includes a fuzzy matching module called Redisearch that can be used to perform full-text search and fuzzy matching queries on data stored in Redis. Redisearch uses an inverted index to index and search documents, which allows it to perform fuzzy matching queries efficiently. "
   ]
  },
  {
   "attachments": {},
   "cell_type": "markdown",
   "metadata": {},
   "source": [
    "# Approaches to computing similarity of two Strings\n",
    "Lets consider two strings String 1 and String 2\n",
    "\n",
    "- Number of edits required to transition from String 1 to String 2\n",
    "    - Edits would consist of the number of character replacements, deletions or insertions.\n",
    "- Common word counts/tallies\n",
    "- Frequency of letters and phrases\n",
    "- Longest common Substrings"
   ]
  },
  {
   "attachments": {},
   "cell_type": "markdown",
   "metadata": {},
   "source": [
    "## Overview of core Fuzzy Matching Algorithms "
   ]
  },
  {
   "attachments": {},
   "cell_type": "markdown",
   "metadata": {},
   "source": [
    "### Levenshtein distance\n",
    "The Levenshtein distance algorithm is a way to compare two words or strings to see how different they are from each other. It counts how many changes you need to make to one word to turn it into the other. The changes can be deleting a letter, adding a letter, or changing a letter. The fewer changes you need to make, the more similar the words are. "
   ]
  },
  {
   "attachments": {},
   "cell_type": "markdown",
   "metadata": {},
   "source": [
    "### Soundex and Metaphone\n",
    "Soundex is an algorithm that is used to index words by their sound, so that similar-sounding words can be matched even if they are spelled differently. It works by taking a word, dropping its vowels (except for the first letter), and assigning a code to each of the remaining consonants based on their sound. Consonants that have the same sound get the same code. The resulting code can then be used to compare words and find matches. \n",
    "\n",
    "Metaphone is an algorithm that indexes words by their pronunciation, just like Soundex. It's better than Soundex because it can handle more complex phonetic patterns and a wider range of words from different languages. It works by assigning codes to the sounds in a word based on their phonetic properties and the context of the sounds. The resulting codes are shorter and easier to read than Soundex codes."
   ]
  },
  {
   "cell_type": "code",
   "execution_count": 61,
   "metadata": {},
   "outputs": [
    {
     "name": "stdout",
     "output_type": "stream",
     "text": [
      "P410\n",
      "F410\n",
      "FLP\n",
      "FLP\n",
      "71% similarity\n"
     ]
    }
   ],
   "source": [
    "import jellyfish\n",
    "\n",
    "name1= \"Phillip\"\n",
    "name2= \"Fillipe\"\n",
    "\n",
    "soundexCode1 = jellyfish.soundex(name1)\n",
    "soundexCode2 = jellyfish.soundex(name2)\n",
    "metCode1 = jellyfish.metaphone(name1)\n",
    "metCode2 = jellyfish.metaphone(name2)\n",
    "print(soundexCode1)\n",
    "print(soundexCode2)\n",
    "print(metCode1)\n",
    "print(metCode2)\n",
    "print(f'{fuzz.partial_ratio(name1, name2)}% similarity')\n"
   ]
  },
  {
   "attachments": {},
   "cell_type": "markdown",
   "metadata": {},
   "source": [
    "The above codeblock shows that the Soundex algorithm produces similar codes showing similar sounding words, but metaphone shows that they sound the exact same. Levenshtein distance doesn't produce a satisfactory result with just 71% similarity."
   ]
  },
  {
   "attachments": {},
   "cell_type": "markdown",
   "metadata": {},
   "source": [
    "### Cosine Similarity \n",
    "For cosine similarity between two terms we make use of the following identity \n",
    "\n",
    "cos(θ) = X ⋅ Y / |X| . |Y|\n",
    "\n",
    "*We can obtain the vector of our words using the Bag of words encoding technique.*\n",
    "\n",
    "We have two key values to consider cos(90) and cos(0). If the value of thetha is 90 that results in our identity producing 0 showing no similarity. if the value of theta is 0 that results in our identity producing a value of 1. The result shows a percentage similarity between the words. \n"
   ]
  },
  {
   "attachments": {},
   "cell_type": "markdown",
   "metadata": {},
   "source": [
    "# Fuzzy matching can have some problems, including:\n",
    "\n",
    "- Ambiguity: Fuzzy matching can produce multiple possible matches, leading to uncertainty about which match is the most relevant and similar\n",
    "- Performance: Some algorithms can be slow and struggle with large amounts of data. This necessitates the use of advanced techniques such as Dynamic programming.\n",
    "- Sensitivity to input data: Fuzzy matching can be affected by errors in the input data, such as misspellings or incorrect capitalization.\n",
    "- Parameter tuning: Some fuzzy matching algorithms have parameters that need to be adjusted to work optimally. Tuning is an iterative process that is often difficult to interpret performance increases/changes"
   ]
  },
  {
   "cell_type": "code",
   "execution_count": 62,
   "metadata": {},
   "outputs": [
    {
     "name": "stdout",
     "output_type": "stream",
     "text": [
      "[('Kotlin Language', 90), ('Java Language', 90), ('English language', 90)]\n"
     ]
    }
   ],
   "source": [
    "#Matching from a array\n",
    "arrFuzzTest = [\"Programming\", \"Kotlin Language\", \"Java Language\", \"Spark Framework\", \"React Framework\", \"English language\"]\n",
    "print(process.extract(\"Language\", arrFuzzTest, limit=3))"
   ]
  },
  {
   "attachments": {},
   "cell_type": "markdown",
   "metadata": {},
   "source": [
    "The above codeblock displays illogical results, displays the need for more advance techniques such as NLP."
   ]
  },
  {
   "attachments": {},
   "cell_type": "markdown",
   "metadata": {},
   "source": [
    "# Python Pandas Fuzzy Matching Demonstration"
   ]
  },
  {
   "cell_type": "code",
   "execution_count": 63,
   "metadata": {},
   "outputs": [
    {
     "data": {
      "text/html": [
       "<div>\n",
       "<style scoped>\n",
       "    .dataframe tbody tr th:only-of-type {\n",
       "        vertical-align: middle;\n",
       "    }\n",
       "\n",
       "    .dataframe tbody tr th {\n",
       "        vertical-align: top;\n",
       "    }\n",
       "\n",
       "    .dataframe thead th {\n",
       "        text-align: right;\n",
       "    }\n",
       "</style>\n",
       "<table border=\"1\" class=\"dataframe\">\n",
       "  <thead>\n",
       "    <tr style=\"text-align: right;\">\n",
       "      <th></th>\n",
       "      <th>Items</th>\n",
       "    </tr>\n",
       "  </thead>\n",
       "  <tbody>\n",
       "    <tr>\n",
       "      <th>0</th>\n",
       "      <td>dog</td>\n",
       "    </tr>\n",
       "    <tr>\n",
       "      <th>1</th>\n",
       "      <td>berry</td>\n",
       "    </tr>\n",
       "    <tr>\n",
       "      <th>2</th>\n",
       "      <td>choco</td>\n",
       "    </tr>\n",
       "    <tr>\n",
       "      <th>3</th>\n",
       "      <td>peanut</td>\n",
       "    </tr>\n",
       "    <tr>\n",
       "      <th>4</th>\n",
       "      <td>aptly</td>\n",
       "    </tr>\n",
       "  </tbody>\n",
       "</table>\n",
       "</div>"
      ],
      "text/plain": [
       "    Items\n",
       "0     dog\n",
       "1   berry\n",
       "2   choco\n",
       "3  peanut\n",
       "4   aptly"
      ]
     },
     "execution_count": 63,
     "metadata": {},
     "output_type": "execute_result"
    }
   ],
   "source": [
    "import pandas as pd\n",
    "import numpy as np\n",
    "\n",
    "\n",
    "# creating the dictionaries\n",
    "arr1 = [\"dog\", \"berry\", \"choco\", \"peanut\", \"aptly\"]\n",
    "arr2 = [\"dog canine\", \"blueberry\", \"raspberry\",\"doggies\", \"doggo\", \"peanuts\", \"apply\"]\n",
    "\n",
    "dframe1 = pd.DataFrame(arr1, columns=['Items'])\n",
    "dframe2 = pd.DataFrame(arr2, columns=['Items'])\n",
    "dframe1"
   ]
  },
  {
   "cell_type": "code",
   "execution_count": 64,
   "metadata": {},
   "outputs": [
    {
     "name": "stdout",
     "output_type": "stream",
     "text": [
      "\n",
      "DataFrame after Fuzzy matching:\n"
     ]
    },
    {
     "data": {
      "text/html": [
       "<div>\n",
       "<style scoped>\n",
       "    .dataframe tbody tr th:only-of-type {\n",
       "        vertical-align: middle;\n",
       "    }\n",
       "\n",
       "    .dataframe tbody tr th {\n",
       "        vertical-align: top;\n",
       "    }\n",
       "\n",
       "    .dataframe thead th {\n",
       "        text-align: right;\n",
       "    }\n",
       "</style>\n",
       "<table border=\"1\" class=\"dataframe\">\n",
       "  <thead>\n",
       "    <tr style=\"text-align: right;\">\n",
       "      <th></th>\n",
       "      <th>Items</th>\n",
       "      <th>matches</th>\n",
       "    </tr>\n",
       "  </thead>\n",
       "  <tbody>\n",
       "    <tr>\n",
       "      <th>0</th>\n",
       "      <td>dog</td>\n",
       "      <td>[(dog canine, 100), (doggies, 100)]</td>\n",
       "    </tr>\n",
       "    <tr>\n",
       "      <th>1</th>\n",
       "      <td>berry</td>\n",
       "      <td>[(blueberry, 100), (raspberry, 100)]</td>\n",
       "    </tr>\n",
       "    <tr>\n",
       "      <th>2</th>\n",
       "      <td>choco</td>\n",
       "      <td>[(doggo, 40), (dog canine, 20)]</td>\n",
       "    </tr>\n",
       "    <tr>\n",
       "      <th>3</th>\n",
       "      <td>peanut</td>\n",
       "      <td>[(peanuts, 100), (raspberry, 33)]</td>\n",
       "    </tr>\n",
       "    <tr>\n",
       "      <th>4</th>\n",
       "      <td>aptly</td>\n",
       "      <td>[(apply, 80), (raspberry, 40)]</td>\n",
       "    </tr>\n",
       "  </tbody>\n",
       "</table>\n",
       "</div>"
      ],
      "text/plain": [
       "    Items                               matches\n",
       "0     dog   [(dog canine, 100), (doggies, 100)]\n",
       "1   berry  [(blueberry, 100), (raspberry, 100)]\n",
       "2   choco       [(doggo, 40), (dog canine, 20)]\n",
       "3  peanut     [(peanuts, 100), (raspberry, 33)]\n",
       "4   aptly        [(apply, 80), (raspberry, 40)]"
      ]
     },
     "execution_count": 64,
     "metadata": {},
     "output_type": "execute_result"
    }
   ],
   "source": [
    "# empty lists for storing the matches later\n",
    "matches1 = []\n",
    "# matches2 = []\n",
    "\n",
    "list1 = dframe1['Items'].tolist()\n",
    "list2 = dframe2['Items'].tolist()\n",
    "\n",
    "# iterating through list1 to extract \n",
    "# it's closest match from list2\n",
    "for i in list1:\n",
    "    matches1.append(process.extract(i, list2, scorer=fuzz.partial_token_sort_ratio,limit=2))\n",
    "dframe1['matches'] = matches1\n",
    "\n",
    "print(\"\\nDataFrame after Fuzzy matching:\")\n",
    "dframe1"
   ]
  },
  {
   "attachments": {},
   "cell_type": "markdown",
   "metadata": {},
   "source": [
    "# Conclusion\n",
    "In conclusion, the above research and code blocks support the findings that fuzzy matching is a valuable tool for comparing words or phrases, as it allows us to consider potential matches that we may not have otherwise examined. While Fuzzy logic represents a significant extension of Boolean logic for measuring similarity, the analysis reveals that it can still return some results that are not entirely sensible. Nonetheless, fuzzy matching remains more effective than traditional equality checks for comparing text strings. The exercise further highlights the importance of optimizing fuzzy search algorithms by utilizing different techniques and identifying the most suitable algorithm for the specific use case. To achieve higher accuracy and relevance of matches, it is necessary to leverage more advanced natural language processing (NLP) and information retrieval techniques."
   ]
  },
  {
   "attachments": {},
   "cell_type": "markdown",
   "metadata": {},
   "source": [
    "# References\n",
    "- https://towardsdatascience.com/fuzzy-string-matching-in-python-68f240d910fe\n",
    "- https://www.analyticsvidhya.com/blog/2021/07/fuzzy-string-matching-a-hands-on-guide/?\n",
    "- https://www.youtube.com/watch?v=1jNNde4k9Ng\n",
    "- https://www.youtube.com/watch?v=SoZ1CVU2DdE\n",
    "- https://nanonets.com/blog/fuzzy-matching-fuzzy-logic/\n",
    "- https://www.sciencedirect.com/topics/computer-science/cosine-similarity#:~:text=Cosine%20similarity%20measures%20the%20similarity,document%20similarity%20in%20text%20analysis.\n",
    "- https://medium.com/@ievgenii.shulitskyi/phonetic-matching-algorithms-50165e684526\n",
    "\n",
    "\n"
   ]
  },
  {
   "attachments": {},
   "cell_type": "markdown",
   "metadata": {},
   "source": [
    "# Libraries\n",
    "- Pandas\n",
    "- Numpy\n",
    "- thefuzz\n",
    "- jellyfish\n",
    "- python-levenshtein\n",
    "- python-levenshtein-wheels\n",
    "\n",
    "Install using:  `pip install <library_name>`"
   ]
  },
  {
   "attachments": {},
   "cell_type": "markdown",
   "metadata": {},
   "source": [
    "# Sample code using thefuzz Library"
   ]
  },
  {
   "cell_type": "code",
   "execution_count": 65,
   "metadata": {},
   "outputs": [
    {
     "name": "stdout",
     "output_type": "stream",
     "text": [
      "False\n",
      "True\n",
      "False\n",
      "The similarity between both the sentences using fuzzy logic is 96%\n",
      "The similarity between both the sentences using fuzzy logic is 75%\n",
      "The similarity between both the sentences using fuzzy logic is 96%\n",
      "The similarity between both the sentences using fuzzy logic is 49%\n",
      "The similarity between both the sentences using fuzzy logic is 52%\n",
      "The similarity between both the sentences using fuzzy logic is 88%\n"
     ]
    }
   ],
   "source": [
    "from thefuzz import fuzz, process\n",
    "\n",
    "'''\n",
    "Fuzzy string matching is similar to using regex operation, equal operands and comparators. Similar to wildcards\n",
    "'''\n",
    "\n",
    "string1 = \"Hello World\"\n",
    "string2 = \"hello world\"\n",
    "string3 = \"hello world !\"\n",
    "print(string1 == string2) ## checking for exact equality amongst strings\n",
    "#Could potentially convert strings to a standard form and compare \n",
    "print(string1.lower() == string2) ## checking for exact equality amongst strings with conversion\n",
    "print(string1.lower() == string3) ## strings are similar but due to no exact match we miss out on a potential high similarity match\n",
    "\n",
    "\n",
    "string4 = \"Just a thefuz experiment\"\n",
    "string5 = \"just a thefuz experiment\"\n",
    "print(f'The similarity between both the sentences using fuzzy logic is {fuzz.ratio(string4, string5)}%')\n",
    "\n",
    "\n",
    "string6 = \"Just a thefuzz experiment\"\n",
    "string7 = \"just a thefuzz experiment and some code\"\n",
    "print(f'The similarity between both the sentences using fuzzy logic is {fuzz.ratio(string6, string7)}%')\n",
    "print(f'The similarity between both the sentences using fuzzy logic is {fuzz.partial_ratio(string6, string7)}%')\n",
    "# partial ratio looks at substrings within our string\n",
    "\n",
    "string8 = \"The quick brown fox jumped of the lazy hen\"\n",
    "string9 = \"The lazy hen was jumped over by the quick brown fox\"\n",
    "print(f'The similarity between both the sentences using fuzzy logic is {fuzz.ratio(string8, string9)}%')\n",
    "print(f'The similarity between both the sentences using fuzzy logic is {fuzz.partial_ratio(string8, string9)}%')\n",
    "print(f'The similarity between both the sentences using fuzzy logic is {fuzz.token_sort_ratio(string8, string9)}%')"
   ]
  },
  {
   "attachments": {},
   "cell_type": "markdown",
   "metadata": {},
   "source": [
    "# Github Link\n",
    "https://github.com/Suvanth/Fuzzy-Matching"
   ]
  }
 ],
 "metadata": {
  "kernelspec": {
   "display_name": "Python 3.10.6 64-bit",
   "language": "python",
   "name": "python3"
  },
  "language_info": {
   "codemirror_mode": {
    "name": "ipython",
    "version": 3
   },
   "file_extension": ".py",
   "mimetype": "text/x-python",
   "name": "python",
   "nbconvert_exporter": "python",
   "pygments_lexer": "ipython3",
   "version": "3.10.6"
  },
  "orig_nbformat": 4,
  "vscode": {
   "interpreter": {
    "hash": "aee8b7b246df8f9039afb4144a1f6fd8d2ca17a180786b69acc140d282b71a49"
   }
  }
 },
 "nbformat": 4,
 "nbformat_minor": 2
}
