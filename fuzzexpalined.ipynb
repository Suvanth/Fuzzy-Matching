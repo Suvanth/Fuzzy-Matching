{
 "cells": [
  {
   "attachments": {},
   "cell_type": "markdown",
   "metadata": {},
   "source": [
    "# What is Fuzzy Matching\n",
    "Fuzzy matching is a technique used to compare and match two strings that are not exactly identical. While the naive approach of comparing strings and checking for equality would only make a direct comparison that is binary and doesn't consider the degree to which two strings might match each other. Fuzzy matching algorithms use various techniques to measure the similarity between two strings, even if they're not exactly identical. These techniques can include things like measuring the number of characters or words that are the same, or looking for common patterns or sequences of characters. By taking a more nuanced approach to comparing strings, fuzzy matching can help identify matches even when there are slight differences or variations in the data being compared."
   ]
  },
  {
   "cell_type": "code",
   "execution_count": 18,
   "metadata": {},
   "outputs": [
    {
     "name": "stdout",
     "output_type": "stream",
     "text": [
      "False\n",
      "The strings have a 82% similarity\n"
     ]
    }
   ],
   "source": [
    "from thefuzz import fuzz # python lib for fuzzy logic\n",
    "\n",
    "string1 = \"Hello World\"\n",
    "string2 = \"hello world\"\n",
    "\n",
    "print(string1 == string2)  # True or False equality\n",
    "print(f'The strings have a {fuzz.partial_ratio(string1,string2)}% similarity') # Degree to which we belive the strings to be matching"
   ]
  },
  {
   "attachments": {},
   "cell_type": "markdown",
   "metadata": {},
   "source": [
    "The codeblock above shows the value of using Fuzzy Matching. We could have potentially lost out on a word/phrase that has a signifcantly high similarity."
   ]
  },
  {
   "attachments": {},
   "cell_type": "markdown",
   "metadata": {},
   "source": [
    "# Use cases of Fuzzy Matching\n",
    "- Clean Customer Data: Companies use fuzzy matching to find and merge duplicate customer records. This helps to keep the customer database accurate and up-to-date, which is important for sales and marketing efforts.\n",
    "\n",
    "- Match Medical Records: Healthcare providers use fuzzy matching to match patient records across different hospitals or clinics. This helps to ensure that patients receive consistent and accurate medical care.\n",
    "\n",
    "- Detect Fraud: Fuzzy matching can help to identify suspicious patterns in financial data, such as transactions that are similar but not identical. This can be used to detect potential fraud.\n",
    "\n",
    "- Personalize Product Recommendations: E-commerce websites use fuzzy matching to recommend products to users based on their search history or past purchases. This can help to improve the user experience and increase sales.\n",
    "\n",
    "- Verify Addresses: Postal services and shipping companies use fuzzy matching to verify and correct address information. This helps to ensure that packages are delivered to the correct address and reduces the risk of misdeliveries or lost packages."
   ]
  },
  {
   "attachments": {},
   "cell_type": "markdown",
   "metadata": {},
   "source": [
    "# Approaches to computing similarity of two Strings\n",
    "Lets consider two strings String 1 and String 2\n",
    "\n",
    "- Number of edits required to transition from String 1 to String 2\n",
    "    - Edits would consist of the number of character replacements, deletions or insertions.\n",
    "- Common word counts/tallies\n",
    "- Frequency of letters and phrases\n",
    "- Longest common Substrings"
   ]
  },
  {
   "attachments": {},
   "cell_type": "markdown",
   "metadata": {},
   "source": [
    "## Overview of core Fuzzy Matching Algorithms "
   ]
  },
  {
   "attachments": {},
   "cell_type": "markdown",
   "metadata": {},
   "source": [
    "### Levenshtein distance\n",
    "The Levenshtein distance algorithm is a way to compare two words or strings to see how different they are from each other. It counts how many changes you need to make to one word to turn it into the other. The changes can be deleting a letter, adding a letter, or changing a letter. The fewer changes you need to make, the more similar the words are. "
   ]
  },
  {
   "attachments": {},
   "cell_type": "markdown",
   "metadata": {},
   "source": [
    "### Soundex and Metaphone\n",
    "Soundex is an algorithm that is used to index words by their sound, so that similar-sounding words can be matched even if they are spelled differently. It works by taking a word, dropping its vowels (except for the first letter), and assigning a code to each of the remaining consonants based on their sound. Consonants that have the same sound get the same code. The resulting code can then be used to compare words and find matches. \n",
    "\n",
    "Metaphone is an algorithm that indexes words by their pronunciation, just like Soundex. It's better than Soundex because it can handle more complex phonetic patterns and a wider range of words from different languages. It works by assigning codes to the sounds in a word based on their phonetic properties and the context of the sounds. The resulting codes are shorter and easier to read than Soundex codes."
   ]
  },
  {
   "cell_type": "code",
   "execution_count": 19,
   "metadata": {},
   "outputs": [
    {
     "name": "stdout",
     "output_type": "stream",
     "text": [
      "P410\n",
      "F410\n",
      "FLP\n",
      "FLP\n",
      "71% similarity\n"
     ]
    }
   ],
   "source": [
    "import jellyfish\n",
    "\n",
    "name1= \"Phillip\"\n",
    "name2= \"Fillipe\"\n",
    "\n",
    "soundexCode1 = jellyfish.soundex(name1)\n",
    "soundexCode2 = jellyfish.soundex(name2)\n",
    "metCode1 = jellyfish.metaphone(name1)\n",
    "metCode2 = jellyfish.metaphone(name2)\n",
    "print(soundexCode1)\n",
    "print(soundexCode2)\n",
    "print(metCode1)\n",
    "print(metCode2)\n",
    "print(f'{fuzz.partial_ratio(name1, name2)}% similarity')\n"
   ]
  },
  {
   "attachments": {},
   "cell_type": "markdown",
   "metadata": {},
   "source": [
    "The above codeblock shows that the Soundex algorithm produces similar codes showing similar sounding words, but metaphone shows that they sound the exact same. Levenshtein distance doesnt produce a satifatory result with just 71% similarity."
   ]
  },
  {
   "attachments": {},
   "cell_type": "markdown",
   "metadata": {},
   "source": [
    "### Cosine Similarity \n",
    "For cosine similarity between two terms we make use of the following identity \n",
    "\n",
    "cos(θ) = X ⋅ Y / |X| . |Y|\n",
    "\n",
    "We have two key values to consider cos(90) and cos(0). If the value of thetha is 90 that results in our identity producing 0 showing no similarity. if the value of theta is 0 that results in our identity producing a value of 1. We can obtain the vector of our words using the Bag of words encoding technique.\n"
   ]
  }
 ],
 "metadata": {
  "kernelspec": {
   "display_name": "Python 3.10.6 64-bit",
   "language": "python",
   "name": "python3"
  },
  "language_info": {
   "codemirror_mode": {
    "name": "ipython",
    "version": 3
   },
   "file_extension": ".py",
   "mimetype": "text/x-python",
   "name": "python",
   "nbconvert_exporter": "python",
   "pygments_lexer": "ipython3",
   "version": "3.10.6"
  },
  "orig_nbformat": 4,
  "vscode": {
   "interpreter": {
    "hash": "aee8b7b246df8f9039afb4144a1f6fd8d2ca17a180786b69acc140d282b71a49"
   }
  }
 },
 "nbformat": 4,
 "nbformat_minor": 2
}
