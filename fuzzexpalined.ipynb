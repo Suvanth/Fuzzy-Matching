{
 "cells": [
  {
   "attachments": {},
   "cell_type": "markdown",
   "metadata": {},
   "source": [
    "# What is Fuzzy Matching\n",
    "Fuzzy matching is a technique used to compare and match two strings that are not exactly identical. While the naive approach of comparing strings and checking for equality would only make a direct comparison that is binary and doesn't consider the degree to which two strings might match each other. Fuzzy matching algorithms use various techniques to measure the similarity between two strings, even if they're not exactly identical. These techniques can include things like measuring the number of characters or words that are the same, or looking for common patterns or sequences of characters. By taking a more nuanced approach to comparing strings, fuzzy matching can help identify matches even when there are slight differences or variations in the data being compared."
   ]
  },
  {
   "cell_type": "code",
   "execution_count": 3,
   "metadata": {},
   "outputs": [
    {
     "name": "stdout",
     "output_type": "stream",
     "text": [
      "False\n",
      "The strings have a 82% similarity\n"
     ]
    }
   ],
   "source": [
    "from thefuzz import fuzz # python lib for fuzzy logic\n",
    "\n",
    "string1 = \"Hello World\"\n",
    "string2 = \"hello world\"\n",
    "\n",
    "print(string1 == string2)  # True or False equality\n",
    "print(f'The strings have a {fuzz.partial_ratio(string1,string2)}% similarity') # Degree to which we belive the strings to be matching"
   ]
  },
  {
   "cell_type": "markdown",
   "metadata": {},
   "source": []
  }
 ],
 "metadata": {
  "kernelspec": {
   "display_name": "Python 3.10.6 64-bit",
   "language": "python",
   "name": "python3"
  },
  "language_info": {
   "codemirror_mode": {
    "name": "ipython",
    "version": 3
   },
   "file_extension": ".py",
   "mimetype": "text/x-python",
   "name": "python",
   "nbconvert_exporter": "python",
   "pygments_lexer": "ipython3",
   "version": "3.10.6"
  },
  "orig_nbformat": 4,
  "vscode": {
   "interpreter": {
    "hash": "aee8b7b246df8f9039afb4144a1f6fd8d2ca17a180786b69acc140d282b71a49"
   }
  }
 },
 "nbformat": 4,
 "nbformat_minor": 2
}
